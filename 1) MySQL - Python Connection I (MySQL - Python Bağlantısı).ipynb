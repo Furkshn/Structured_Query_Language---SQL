{
 "cells": [
  {
   "cell_type": "markdown",
   "metadata": {},
   "source": [
    "# \n",
    "# Installing MySQL Connector in Anaconda  --- Anaconda İçerisine MySQL Bağlayıcısını Yükleme"
   ]
  },
  {
   "cell_type": "code",
   "execution_count": 1,
   "metadata": {},
   "outputs": [
    {
     "name": "stdout",
     "output_type": "stream",
     "text": [
      "Collecting package metadata (current_repodata.json): ...working... done\n",
      "Solving environment: ...working... failed with initial frozen solve. Retrying with flexible solve.\n",
      "Solving environment: ...working... failed with repodata from current_repodata.json, will retry with next repodata source.\n",
      "Collecting package metadata (repodata.json): ...working... done\n",
      "Solving environment: ...working... done\n",
      "\n",
      "## Package Plan ##\n",
      "\n",
      "  environment location: C:\\Users\\Furkan\\Anaconda3\n",
      "\n",
      "  added / updated specs:\n",
      "    - mysql-connector-python\n",
      "\n",
      "\n",
      "The following packages will be downloaded:\n",
      "\n",
      "    package                    |            build\n",
      "    ---------------------------|-----------------\n",
      "    ca-certificates-2019.8.28  |                0         165 KB  anaconda\n",
      "    certifi-2019.9.11          |           py37_0         155 KB  anaconda\n",
      "    libprotobuf-3.6.0          |       h1a1b453_0         2.0 MB  anaconda\n",
      "    mysql-connector-c-6.1.11   |       h33f27b4_1         5.1 MB  anaconda\n",
      "    mysql-connector-python-8.0.18|   py37h13ed8b8_1         596 KB  anaconda\n",
      "    openssl-1.1.1d             |       he774522_2         5.7 MB  anaconda\n",
      "    protobuf-3.6.0             |   py37he025d50_0         516 KB  anaconda\n",
      "    ------------------------------------------------------------\n",
      "                                           Total:        14.2 MB\n",
      "\n",
      "The following NEW packages will be INSTALLED:\n",
      "\n",
      "  libprotobuf        anaconda/win-64::libprotobuf-3.6.0-h1a1b453_0\n",
      "  mysql-connector-c  anaconda/win-64::mysql-connector-c-6.1.11-h33f27b4_1\n",
      "  mysql-connector-p~ anaconda/win-64::mysql-connector-python-8.0.18-py37h13ed8b8_1\n",
      "  protobuf           anaconda/win-64::protobuf-3.6.0-py37he025d50_0\n",
      "\n",
      "The following packages will be SUPERSEDED by a higher-priority channel:\n",
      "\n",
      "  ca-certificates                                 pkgs/main --> anaconda\n",
      "  certifi                                         pkgs/main --> anaconda\n",
      "  openssl                                         pkgs/main --> anaconda\n",
      "\n",
      "\n",
      "\n",
      "Downloading and Extracting Packages\n",
      "\n",
      "certifi-2019.9.11    | 155 KB    |            |   0% \n",
      "certifi-2019.9.11    | 155 KB    | #          |  10% \n",
      "certifi-2019.9.11    | 155 KB    | ########2  |  83% \n",
      "certifi-2019.9.11    | 155 KB    | ########## | 100% \n",
      "\n",
      "openssl-1.1.1d       | 5.7 MB    |            |   0% \n",
      "openssl-1.1.1d       | 5.7 MB    |            |   0% \n",
      "openssl-1.1.1d       | 5.7 MB    | 7          |   7% \n",
      "openssl-1.1.1d       | 5.7 MB    | #9         |  19% \n",
      "openssl-1.1.1d       | 5.7 MB    | ##7        |  27% \n",
      "openssl-1.1.1d       | 5.7 MB    | ###6       |  37% \n",
      "openssl-1.1.1d       | 5.7 MB    | ####2      |  43% \n",
      "openssl-1.1.1d       | 5.7 MB    | #####4     |  55% \n",
      "openssl-1.1.1d       | 5.7 MB    | ######3    |  64% \n",
      "openssl-1.1.1d       | 5.7 MB    | #######6   |  77% \n",
      "openssl-1.1.1d       | 5.7 MB    | ########3  |  84% \n",
      "openssl-1.1.1d       | 5.7 MB    | #########  |  90% \n",
      "openssl-1.1.1d       | 5.7 MB    | #########5 |  96% \n",
      "openssl-1.1.1d       | 5.7 MB    | ########## | 100% \n",
      "\n",
      "ca-certificates-2019 | 165 KB    |            |   0% \n",
      "ca-certificates-2019 | 165 KB    | 9          |  10% \n",
      "ca-certificates-2019 | 165 KB    | ########## | 100% \n",
      "ca-certificates-2019 | 165 KB    | ########## | 100% \n",
      "\n",
      "mysql-connector-c-6. | 5.1 MB    |            |   0% \n",
      "mysql-connector-c-6. | 5.1 MB    |            |   0% \n",
      "mysql-connector-c-6. | 5.1 MB    | 3          |   3% \n",
      "mysql-connector-c-6. | 5.1 MB    | 9          |   9% \n",
      "mysql-connector-c-6. | 5.1 MB    | #6         |  16% \n",
      "mysql-connector-c-6. | 5.1 MB    | ##4        |  24% \n",
      "mysql-connector-c-6. | 5.1 MB    | ###1       |  32% \n",
      "mysql-connector-c-6. | 5.1 MB    | ###9       |  40% \n",
      "mysql-connector-c-6. | 5.1 MB    | ####9      |  49% \n",
      "mysql-connector-c-6. | 5.1 MB    | #####8     |  59% \n",
      "mysql-connector-c-6. | 5.1 MB    | ######8    |  68% \n",
      "mysql-connector-c-6. | 5.1 MB    | #######8   |  78% \n",
      "mysql-connector-c-6. | 5.1 MB    | ########9  |  89% \n",
      "mysql-connector-c-6. | 5.1 MB    | ########## | 100% \n",
      "mysql-connector-c-6. | 5.1 MB    | ########## | 100% \n",
      "\n",
      "protobuf-3.6.0       | 516 KB    |            |   0% \n",
      "protobuf-3.6.0       | 516 KB    | 3          |   3% \n",
      "protobuf-3.6.0       | 516 KB    | ########## | 100% \n",
      "protobuf-3.6.0       | 516 KB    | ########## | 100% \n",
      "\n",
      "mysql-connector-pyth | 596 KB    |            |   0% \n",
      "mysql-connector-pyth | 596 KB    | 2          |   3% \n",
      "mysql-connector-pyth | 596 KB    | ########## | 100% \n",
      "mysql-connector-pyth | 596 KB    | ########## | 100% \n",
      "\n",
      "libprotobuf-3.6.0    | 2.0 MB    |            |   0% \n",
      "libprotobuf-3.6.0    | 2.0 MB    | 1          |   2% \n",
      "libprotobuf-3.6.0    | 2.0 MB    | ##         |  21% \n",
      "libprotobuf-3.6.0    | 2.0 MB    | #####6     |  56% \n",
      "libprotobuf-3.6.0    | 2.0 MB    | #########  |  91% \n",
      "libprotobuf-3.6.0    | 2.0 MB    | ########## | 100% \n",
      "Preparing transaction: ...working... done\n",
      "Verifying transaction: ...working... done\n",
      "Executing transaction: ...working... done\n",
      "\n",
      "Note: you may need to restart the kernel to use updated packages.\n"
     ]
    }
   ],
   "source": [
    "conda install -c anaconda mysql-connector-python       # Installing Code for Anaconda\n",
    "                                                       # Anaconda için yükleme kodu"
   ]
  },
  {
   "cell_type": "markdown",
   "metadata": {},
   "source": [
    "\n",
    "### Important Note: You should have installed MySQL Workbench that provides database systems interface.\n",
    "\n",
    "# \n",
    "\n",
    "### Önemli Not: Veritabanı üzerinde daha kolay işlemler yapmak için veritabanı sistem arayüzü sunan MySQL Workbench programını yüklemiş olmanız gerekir.\n",
    "\n"
   ]
  },
  {
   "cell_type": "markdown",
   "metadata": {},
   "source": [
    "# \n",
    "# MySQL - Python Connection --- (MySQL - Python Bağlantısı)"
   ]
  },
  {
   "cell_type": "code",
   "execution_count": 1,
   "metadata": {},
   "outputs": [],
   "source": [
    "\n",
    "import mysql.connector   # Importing MySQL connector tool\n",
    "\n",
    "\n",
    "# This connector provide connection between Python & MySQL to perform database transactions\n",
    "\n",
    "# Bu araç, veritabanı işlemlerinin yapılabilmesi için Python ve MySQL arasındaki bağlantıyı sağlar.\n",
    "\n"
   ]
  },
  {
   "cell_type": "code",
   "execution_count": 16,
   "metadata": {},
   "outputs": [
    {
     "name": "stdout",
     "output_type": "stream",
     "text": [
      "<mysql.connector.connection.MySQLConnection object at 0x000001EC4EDD0188>\n"
     ]
    }
   ],
   "source": [
    "\n",
    "veritabanı = mysql.connector.connect(   # Veritabanına değil Server'a Bağlandık.\n",
    "                                        # We are connected to the server, not the database.\n",
    "    host = \"localhost\",\n",
    "    user = \"root\",\n",
    "    password = \"2689\"\n",
    ")\n",
    "\n",
    "print(veritabanı)\n",
    "\n"
   ]
  },
  {
   "cell_type": "code",
   "execution_count": 17,
   "metadata": {},
   "outputs": [],
   "source": [
    "\n",
    "\n",
    "cursor = veritabanı.cursor(buffered=True)    # Database Oluşturma\n",
    "                                             # Creating Database\n",
    "cursor.execute(\"CREATE DATABASE Test_Database\")\n",
    "\n"
   ]
  },
  {
   "cell_type": "code",
   "execution_count": 18,
   "metadata": {},
   "outputs": [
    {
     "name": "stdout",
     "output_type": "stream",
     "text": [
      "('deneme',)\n",
      "('information_schema',)\n",
      "('marketürünsistem',)\n",
      "('mysql',)\n",
      "('okul_veritabanı_sistemi',)\n",
      "('performance_schema',)\n",
      "('sakila',)\n",
      "('sys',)\n",
      "('world',)\n"
     ]
    }
   ],
   "source": [
    "\n",
    "cursor.execute(\"SHOW DATABASES\")   # Showing All Databases\n",
    "\n",
    "for i in cursor:\n",
    "    print(i)\n",
    "    "
   ]
  },
  {
   "cell_type": "code",
   "execution_count": 23,
   "metadata": {},
   "outputs": [
    {
     "name": "stdout",
     "output_type": "stream",
     "text": [
      "<mysql.connector.connection.MySQLConnection object at 0x000001EC4E8BA5C8>\n"
     ]
    }
   ],
   "source": [
    "\n",
    "# Veritabanına Bağlama\n",
    "\n",
    "# Connecting \"okul_veritabanı_sistemi\" database\n",
    "\n",
    "\n",
    "veritabanı = mysql.connector.connect(   \n",
    "\n",
    "    host = \"localhost\",\n",
    "    user = \"root\",\n",
    "    password = \"2689\",\n",
    "    database = \"okul_veritabanı_sistemi\"\n",
    ")\n",
    "\n",
    "print(veritabanı)\n",
    "\n"
   ]
  },
  {
   "cell_type": "code",
   "execution_count": null,
   "metadata": {},
   "outputs": [],
   "source": [
    "\n",
    "# Tablo Ekleme\n",
    "\n",
    "# Adding Table in Database\n",
    "\n",
    "\n",
    "cursor = veritabanı.cursor()      # Cursor tool enable to process in database system\n",
    "                                  # Cursor aracı veritabanı içerisinde işlemler yapılabilmesini sağlar.\n",
    "    \n",
    "    \n",
    "cursor.execute(\"CREATE TABLE Öğretmen(ÖğretmenID INT, Ad VARCHAR(255), Soyad VARCHAR(255),  Branş VARCHAR(255))\")\n",
    "\n"
   ]
  },
  {
   "cell_type": "code",
   "execution_count": null,
   "metadata": {},
   "outputs": [],
   "source": []
  }
 ],
 "metadata": {
  "kernelspec": {
   "display_name": "Python 3",
   "language": "python",
   "name": "python3"
  },
  "language_info": {
   "codemirror_mode": {
    "name": "ipython",
    "version": 3
   },
   "file_extension": ".py",
   "mimetype": "text/x-python",
   "name": "python",
   "nbconvert_exporter": "python",
   "pygments_lexer": "ipython3",
   "version": "3.8.8"
  }
 },
 "nbformat": 4,
 "nbformat_minor": 4
}
